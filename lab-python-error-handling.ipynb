{
 "cells": [
  {
   "cell_type": "markdown",
   "id": "25d7736c-ba17-4aff-b6bb-66eba20fbf4e",
   "metadata": {},
   "source": [
    "# Lab | Error Handling"
   ]
  },
  {
   "cell_type": "markdown",
   "id": "bc99b386-7508-47a0-bcdb-d969deaf6c8b",
   "metadata": {},
   "source": [
    "## Exercise: Error Handling for Managing Customer Orders\n",
    "\n",
    "The implementation of your code for managing customer orders assumes that the user will always enter a valid input. \n",
    "\n",
    "For example, we could modify the `initialize_inventory` function to include error handling.\n",
    "   - If the user enters an invalid quantity (e.g., a negative value or a non-numeric value), display an error message and ask them to re-enter the quantity for that product.\n",
    "   - Use a try-except block to handle the error and continue prompting the user until a valid quantity is entered.\n",
    "\n",
    "```python\n",
    "# Step 1: Define the function for initializing the inventory with error handling\n",
    "def initialize_inventory(products):\n",
    "    inventory = {}\n",
    "    for product in products:\n",
    "        valid_quantity = False\n",
    "        while not valid_quantity:\n",
    "            try:\n",
    "                quantity = int(input(f\"Enter the quantity of {product}s available: \"))\n",
    "                if quantity < 0:\n",
    "                    raise ValueError(\"Invalid quantity! Please enter a non-negative value.\")\n",
    "                valid_quantity = True\n",
    "            except ValueError as error:\n",
    "                print(f\"Error: {error}\")\n",
    "        inventory[product] = quantity\n",
    "    return inventory\n",
    "\n",
    "# Or, in another way:\n",
    "\n",
    "def initialize_inventory(products):\n",
    "    inventory = {}\n",
    "    for product in products:\n",
    "        valid_input = False\n",
    "        while not valid_input:\n",
    "            try:\n",
    "                quantity = int(input(f\"Enter the quantity of {product}s available: \"))\n",
    "                if quantity >= 0:\n",
    "                    inventory[product] = quantity\n",
    "                    valid_input = True\n",
    "                else:\n",
    "                    print(\"Quantity cannot be negative. Please enter a valid quantity.\")\n",
    "            except ValueError:\n",
    "                print(\"Invalid input. Please enter a valid quantity.\")\n",
    "    return inventory\n",
    "```\n",
    "\n",
    "Let's enhance your code by implementing error handling to handle invalid inputs."
   ]
  },
  {
   "cell_type": "code",
   "execution_count": 4,
   "id": "562886d2",
   "metadata": {},
   "outputs": [],
   "source": [
    "def initialize_inventory(products):\n",
    "    inventory = {}\n",
    "\n",
    "    for product in products:\n",
    "        while True:\n",
    "            try:\n",
    "                quantity = int(input(f\"Enter the quantity of {product}s available: \"))\n",
    "\n",
    "                if quantity >= 0:\n",
    "                    inventory[product] = quantity\n",
    "                    break\n",
    "                else:\n",
    "                    print(\"Invalid quantity! Please enter a non-negative value.\")\n",
    "            except ValueError as error:\n",
    "                print(f\"Error: {error}\")\n",
    "\n",
    "    return inventory"
   ]
  },
  {
   "cell_type": "code",
   "execution_count": 5,
   "id": "8ee94a1e",
   "metadata": {},
   "outputs": [
    {
     "name": "stdout",
     "output_type": "stream",
     "text": [
      "Error: invalid literal for int() with base 10: ''\n"
     ]
    },
    {
     "data": {
      "text/plain": [
       "{'t-shirt': 10, 'mug': 5, 'hat': 8, 'book': 3, 'keychain': 20}"
      ]
     },
     "execution_count": 5,
     "metadata": {},
     "output_type": "execute_result"
    }
   ],
   "source": [
    "products = [\"t-shirt\", \"mug\", \"hat\", \"book\", \"keychain\"]\n",
    "inventory = initialize_inventory(products)\n",
    "inventory"
   ]
  },
  {
   "cell_type": "markdown",
   "id": "c8e1c4cd",
   "metadata": {},
   "source": [
    "2. Modify the `calculate_total_price` function to include error handling.\n",
    "   - If the user enters an invalid price (e.g., a negative value or a non-numeric value), display an error message and ask them to re-enter the price for that product.\n",
    "   - Use a try-except block to handle the error and continue prompting the user until a valid price is entered."
   ]
  },
  {
   "cell_type": "code",
   "execution_count": 5,
   "id": "51f5b6d0",
   "metadata": {},
   "outputs": [],
   "source": [
    "def calculate_total_price(customer_orders):\n",
    "\n",
    "    price = []\n",
    "\n",
    "    for product in customer_orders:\n",
    "        \n",
    "        while True:\n",
    "            price_input = (int(input(f\"Enter the price of {product} in euro:\")))\n",
    "\n",
    "            try:\n",
    "                if price_input >= 0:\n",
    "                    price.append(price_input)\n",
    "                    print(f\"Enter the price of {product} in euro:\", price_input)\n",
    "                    break\n",
    "                else:\n",
    "                    print(\"Invalid input! Please enter a non-negative value.\")\n",
    "            except ValueError as error:\n",
    "                print(f\"Error: {error}\")    \n",
    "                \n",
    "    total_price = sum(price)\n",
    "\n",
    "    return total_price"
   ]
  },
  {
   "cell_type": "code",
   "execution_count": 10,
   "id": "472b53dc",
   "metadata": {},
   "outputs": [
    {
     "name": "stdout",
     "output_type": "stream",
     "text": [
      "Enter the price of book in euro: 10\n",
      "Enter the price of hat in euro: 15\n",
      "Enter the price of mug in euro: 8\n",
      "Total price: 33\n"
     ]
    }
   ],
   "source": [
    "customer_orders ={'mug', 'book', 'hat'}\n",
    "total_price = calculate_total_price(customer_orders)\n",
    "print(\"Total price:\", total_price)"
   ]
  },
  {
   "cell_type": "markdown",
   "id": "eea36892",
   "metadata": {},
   "source": [
    "3. Modify the `get_customer_orders` function to include error handling.\n",
    "   - If the user enters an invalid number of orders (e.g., a negative value or a non-numeric value), display an error message and ask them to re-enter the number of orders.\n",
    "   - If the user enters an invalid product name (e.g., a product name that is not in the inventory), or that doesn't have stock available, display an error message and ask them to re-enter the product name. *Hint: you will need to pass inventory as a parameter*\n",
    "   - Use a try-except block to handle the error and continue prompting the user until a valid product name is entered."
   ]
  },
  {
   "cell_type": "code",
   "execution_count": 23,
   "id": "e65a4504",
   "metadata": {},
   "outputs": [],
   "source": [
    "def get_customer_orders(inventory):\n",
    "\n",
    "    #valid_quantity = True\n",
    "\n",
    "    while True:                       \n",
    "        number_of_order = int(input(\"Enter the number of order: \"))\n",
    "\n",
    "        try:\n",
    "            if number_of_order < 0:\n",
    "                raise ValueError(\"Invalid quantity! Please enter a non-negative value.\")\n",
    "            else:\n",
    "                break\n",
    "        except ValueError as error:\n",
    "            print(f\"Error: {error}\")\n",
    "\n",
    "    customer_orders = set()\n",
    "\n",
    "    #valid_order = True\n",
    "    \n",
    "    for i in range(number_of_order): \n",
    "        \n",
    "        while True:    \n",
    "            user_input = input(\"Enter a product that you want to order: \")\n",
    "            \n",
    "            try:\n",
    "                if user_input in inventory and inventory[user_input] > 0:\n",
    "                    customer_orders.add(user_input)\n",
    "                    break\n",
    "                else:\n",
    "                    print(\"The product is out of stock. Please re-enter the product name\")\n",
    "                    \n",
    "            except ValueError as error:\n",
    "                print(f\"Error: {error}\")\n",
    "\n",
    "            \n",
    "    return customer_orders"
   ]
  },
  {
   "cell_type": "code",
   "execution_count": 24,
   "id": "2a1ff31d",
   "metadata": {},
   "outputs": [
    {
     "name": "stdout",
     "output_type": "stream",
     "text": [
      "The product is out of stock. Please re-enter the product name\n"
     ]
    },
    {
     "data": {
      "text/plain": [
       "{'book', 'hat', 'mug'}"
      ]
     },
     "execution_count": 24,
     "metadata": {},
     "output_type": "execute_result"
    }
   ],
   "source": [
    "\n",
    "customer_orders = get_customer_orders(inventory)\n",
    "customer_orders\n"
   ]
  }
 ],
 "metadata": {
  "kernelspec": {
   "display_name": "Python 3 (ipykernel)",
   "language": "python",
   "name": "python3"
  },
  "language_info": {
   "codemirror_mode": {
    "name": "ipython",
    "version": 3
   },
   "file_extension": ".py",
   "mimetype": "text/x-python",
   "name": "python",
   "nbconvert_exporter": "python",
   "pygments_lexer": "ipython3",
   "version": "3.11.7"
  }
 },
 "nbformat": 4,
 "nbformat_minor": 5
}
